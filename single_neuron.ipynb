{
 "cells": [
  {
   "cell_type": "code",
   "execution_count": 1,
   "metadata": {
    "collapsed": false
   },
   "outputs": [],
   "source": [
    "# simple neural network of one neuron, with 2 inputs and 1 output\n",
    "import numpy"
   ]
  },
  {
   "cell_type": "code",
   "execution_count": 2,
   "metadata": {
    "collapsed": false
   },
   "outputs": [],
   "source": [
    "class neuralNetwork:\n",
    "    \n",
    "    def __init__(self):\n",
    "        self.w = numpy.array([0.1 + 0.2j ,0.2 + 0.1j], ndmin=2, dtype='complex128')\n",
    "        self.cats = 2\n",
    "        pass\n",
    "    \n",
    "    def z_to_class(self, z):\n",
    "        # first work out the angle, but shift angle from [-pi/2, +pi.2] to [0,2pi]\n",
    "        angle = numpy.mod(numpy.angle(z) + 2*numpy.pi, 2*numpy.pi)\n",
    "        # from angle to category\n",
    "        p = int(numpy.floor (self.cats * angle / (2*numpy.pi)))\n",
    "        return p\n",
    "\n",
    "    def class_to_angle(self, p):\n",
    "        # class to angle, using bisector\n",
    "        angle = ((p + 0.5) / self.cats) * 2 * numpy.pi\n",
    "        return angle\n",
    "    \n",
    "    def status(self):\n",
    "        print (\"w = \", self.w)\n",
    "        pass\n",
    "\n",
    "    def query(self, inputs_list):\n",
    "        # convert input to complex\n",
    "        inputs = numpy.array(inputs_list, ndmin=2, dtype='complex128').T\n",
    "        print(\"inputs = \\n\", inputs)\n",
    "        \n",
    "        z = numpy.dot(self.w, inputs)\n",
    "        z = numpy.exp(1j * numpy.angle(z))\n",
    "        print(\"z =\", z)\n",
    "        o = self.z_to_class(z)\n",
    "        print(\"output = \", o)\n",
    "        print (\"\")\n",
    "        return o\n",
    "    \n",
    "    def train(self, inputs_list, targets_list):\n",
    "        # convert inputs and outputs list to 2d array\n",
    "        inputs = numpy.array(inputs_list, ndmin=2, dtype='complex128').T\n",
    "        targets = numpy.array(targets_list, ndmin=2).T\n",
    "\n",
    "        z = numpy.dot(self.w, inputs)\n",
    "        p = numpy.exp(1j * numpy.angle(z))\n",
    "        #print(\"self.w = \", self.w)\n",
    "        #print(\"inputs = \", inputs)\n",
    "        #print(\"z = \", z)\n",
    "        #print(\"p = \", p)\n",
    "        \n",
    "        desired_angle = self.class_to_angle(targets)\n",
    "        #print(\"desired_angle = \", desired_angle/(2*numpy.pi))\n",
    "        e =  numpy.exp(1j*desired_angle) - p\n",
    "        #print(\" e = \", e)\n",
    "        self.w += (e * numpy.conj(inputs.T))  / (2 * numpy.abs(z))\n",
    "        #print(\"new self.w = \", self.w)\n",
    "        #print(\"\")\n",
    "    pass"
   ]
  },
  {
   "cell_type": "code",
   "execution_count": 3,
   "metadata": {
    "collapsed": false
   },
   "outputs": [
    {
     "name": "stdout",
     "output_type": "stream",
     "text": [
      "w =  [[ 0.1+0.2j  0.2+0.1j]]\n"
     ]
    }
   ],
   "source": [
    "# create instance of neural network\n",
    "n = neuralNetwork()\n",
    "n.status()"
   ]
  },
  {
   "cell_type": "code",
   "execution_count": 4,
   "metadata": {
    "collapsed": false
   },
   "outputs": [],
   "source": [
    "# train neural network - OR\n",
    "for i in range(10):\n",
    "    n.train([1.0, 1.0], [1])\n",
    "    n.train([-1.0, 1.0], [1])\n",
    "    n.train([-1.0, -1.0], [0])\n",
    "    n.train([1.0, -1.0], [1])\n",
    "    pass"
   ]
  },
  {
   "cell_type": "code",
   "execution_count": 5,
   "metadata": {
    "collapsed": false
   },
   "outputs": [
    {
     "name": "stdout",
     "output_type": "stream",
     "text": [
      "w =  [[-0.19949328-2.48607938j -0.17437019-1.35369568j]]\n",
      "inputs = \n",
      " [[ 1.+0.j]\n",
      " [ 1.+0.j]]\n",
      "z = [[-0.09690772-0.99529337j]]\n",
      "output =  1\n",
      "\n",
      "inputs = \n",
      " [[-1.+0.j]\n",
      " [ 1.+0.j]]\n",
      "z = [[ 0.02218057+0.99975398j]]\n",
      "output =  0\n",
      "\n",
      "inputs = \n",
      " [[-1.+0.j]\n",
      " [-1.+0.j]]\n",
      "z = [[ 0.09690772+0.99529337j]]\n",
      "output =  0\n",
      "\n",
      "inputs = \n",
      " [[ 1.+0.j]\n",
      " [-1.+0.j]]\n",
      "z = [[-0.02218057-0.99975398j]]\n",
      "output =  1\n",
      "\n"
     ]
    },
    {
     "data": {
      "text/plain": [
       "1"
      ]
     },
     "execution_count": 5,
     "metadata": {},
     "output_type": "execute_result"
    }
   ],
   "source": [
    "# query after training\n",
    "n.status()\n",
    "n.query( [1.0, 1.0] )\n",
    "n.query( [-1.0, 1.0] )\n",
    "n.query( [-1.0, -1.0] )\n",
    "n.query( [1.0, -1.0] )"
   ]
  },
  {
   "cell_type": "code",
   "execution_count": null,
   "metadata": {
    "collapsed": false
   },
   "outputs": [],
   "source": []
  },
  {
   "cell_type": "code",
   "execution_count": null,
   "metadata": {
    "collapsed": true
   },
   "outputs": [],
   "source": []
  }
 ],
 "metadata": {
  "kernelspec": {
   "display_name": "Python 3",
   "language": "python",
   "name": "python3"
  },
  "language_info": {
   "codemirror_mode": {
    "name": "ipython",
    "version": 3
   },
   "file_extension": ".py",
   "mimetype": "text/x-python",
   "name": "python",
   "nbconvert_exporter": "python",
   "pygments_lexer": "ipython3",
   "version": "3.5.1"
  }
 },
 "nbformat": 4,
 "nbformat_minor": 0
}
